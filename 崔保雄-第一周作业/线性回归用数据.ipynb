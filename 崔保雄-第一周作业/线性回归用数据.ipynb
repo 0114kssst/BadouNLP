{
 "cells": [
  {
   "cell_type": "code",
   "execution_count": 19,
   "id": "7ed76187-e74a-402f-86bd-f3f0127b7b36",
   "metadata": {},
   "outputs": [
    {
     "name": "stdout",
     "output_type": "stream",
     "text": [
      "new_column：\n",
      " [ 973.535  203.445 1001.85  ... 1323.725  524.08   720.065]\n",
      "dt_source：\n",
      " [['X1' 'X2' 'X3' 'Y1']\n",
      " ['6523.0' '1862.0' '5883.0' '973.535']\n",
      " ['1280.0' '1183.0' '1498.0' '203.445']\n",
      " ...\n",
      " ['8198.0' '8383.0' '8323.0' '1323.725']\n",
      " ['1500.0' '9212.0' '6528.0' '524.08']\n",
      " ['2018.0' '1789.0' '9334.0' '720.065']]\n"
     ]
    }
   ],
   "source": [
    "#该代码用来手动造一些数据集，用于后续线性回归模型的训练。  \n",
    "\n",
    "import numpy as np\n",
    "import pandas as pd\n",
    "\n",
    "#定义3个参数。值随便写，后续基于生成的数据集，使用线性回归模型算法，看能不能找到比较接近这三个参数的模型参数。\n",
    "w1 = 0.085\n",
    "w2 = 0.015\n",
    "w3 = 0.05\n",
    "\n",
    "#生成的样本数量\n",
    "data_size = 6000\n",
    "\n",
    "#定义三个x，随机赋值\n",
    "x_old = np.array( np.random.randint(1000 , 10000, size = (data_size, 3)) )\n",
    "# print(\"x_old的行数：\\n\", x1.shape[0])\n",
    "# print(\"x_old：\\n\",x_old)\n",
    "\n",
    "#定义一个y，根据多元一次函数生成。计算y值的时候，故意加了一个随机整数模拟日常生活当中数据的复杂情况。\n",
    "new_column =np.array(  [ np.round(w1 * i[0] + w2 * i[1] + w3 * i[2] + np.random.randint(-100 , 100), 4)  for i in x_old]  )\n",
    "print(\"new_column：\\n\", new_column)\n",
    "# print(\"new_column的行数：\\n\", new_column.shape[0])\n",
    "\n",
    "#将三位数组扩编，变成4维数组  reshape的第一个参数3000代表行数\n",
    "data_new = np.hstack( (x_old, new_column.reshape(data_size, 1)) )\n",
    "# print(\"data_new：\\n\", data_new)\n",
    "\n",
    "filepath = \"data/test_003.csv\"\n",
    "#给数据集字段加个标题\n",
    "data_title = np.array([\"X1\", \"X2\", \"X3\", \"Y1\"])\n",
    "data_source = np.vstack((data_title, data_new))\n",
    "print(\"dt_source：\\n\", data_source)\n",
    "\n",
    "df = pd.DataFrame(data_source)\n",
    "\n",
    "#开始保存文件\n",
    "#index、header 用来设置是否显示行索引列索引\n",
    "df.to_csv(filepath, index = False, header = False)"
   ]
  },
  {
   "cell_type": "code",
   "execution_count": null,
   "id": "ff27d515-0b78-43e7-8dd6-d549d57518c3",
   "metadata": {},
   "outputs": [],
   "source": []
  }
 ],
 "metadata": {
  "kernelspec": {
   "display_name": "Python 3 (ipykernel)",
   "language": "python",
   "name": "python3"
  },
  "language_info": {
   "codemirror_mode": {
    "name": "ipython",
    "version": 3
   },
   "file_extension": ".py",
   "mimetype": "text/x-python",
   "name": "python",
   "nbconvert_exporter": "python",
   "pygments_lexer": "ipython3",
   "version": "3.12.7"
  }
 },
 "nbformat": 4,
 "nbformat_minor": 5
}
