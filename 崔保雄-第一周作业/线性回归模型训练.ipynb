{
 "cells": [
  {
   "cell_type": "code",
   "execution_count": 28,
   "id": "2c85ffe6-85a0-469a-8138-75c049db2838",
   "metadata": {},
   "outputs": [
    {
     "name": "stdout",
     "output_type": "stream",
     "text": [
      "Mean Squared Error: 3499.170594996787\n",
      "R^2 Score: 0.9488662393981933\n",
      "线性回归模型为： y = 0.0844 * x1 + 0.0147 * x2 + 0.0501* x3 + 5.9716.\n"
     ]
    }
   ],
   "source": [
    "# 基于Scikit-learn实现多元线性回归模型\n",
    "import pandas as pd\n",
    "\n",
    "import numpy as np\n",
    "import matplotlib.pyplot as plt\n",
    "from sklearn.model_selection import train_test_split\n",
    "from sklearn.linear_model import LinearRegression\n",
    "from sklearn.metrics import mean_squared_error, r2_score\n",
    "\n",
    "#从数据集读取数据\n",
    "filepath = \"../造数据/data/test_003.csv\"\n",
    "df = pd.read_csv(filepath)\n",
    "# print(\"df：\\n\", df)\n",
    "\n",
    "#准备数据集\n",
    "X = df[['X1', 'X2', 'X3']]\n",
    "y = df[['Y1']]\n",
    "# print(\"X：\\n\", X)\n",
    "# print(\"y：\\n\", y)\n",
    "\n",
    "#划分训练集和测试集，训练集80%，测试机20%\n",
    "X_train, X_test, y_train, y_test = train_test_split(X, y, test_size=0.2, random_state=42)\n",
    "# print(\"X_train：\\n\", X_train)\n",
    "# print(\"X_test：\\n\", X_test)\n",
    "# print(\"y_train：\\n\", y_train)\n",
    "# print(\"y_test：\\n\", y_test)\n",
    "\n",
    "# 创建线性回归模型并训练它\n",
    "model = LinearRegression()\n",
    "model.fit(X_train, y_train)\n",
    "\n",
    "# 评估模型性能、使用测试集进行预测\n",
    "y_pred = model.predict(X_test)\n",
    " \n",
    "# 计算并打印均方误差（MSE）和R^2分数\n",
    "mse = mean_squared_error(y_test, y_pred)\n",
    "r2 = r2_score(y_test, y_pred)\n",
    "print(f\"Mean Squared Error: {mse}\")\n",
    "print(f\"R^2 Score: {r2}\")\n",
    "\n",
    "# 打印模型参数\n",
    "a = model.coef_\n",
    "b = model.intercept_\n",
    "print(\"线性回归模型为： y = {:.4f} * x1 + {:.4f} * x2 + {:.4f}* x3 + {:.4f}.\"\n",
    "      .format(a[0][0],a[0][1],a[0][2],b[0]))"
   ]
  },
  {
   "cell_type": "code",
   "execution_count": null,
   "id": "f0f9aa6e-acb8-4cfe-8a5c-5218e1a78792",
   "metadata": {},
   "outputs": [],
   "source": []
  }
 ],
 "metadata": {
  "kernelspec": {
   "display_name": "Python 3 (ipykernel)",
   "language": "python",
   "name": "python3"
  },
  "language_info": {
   "codemirror_mode": {
    "name": "ipython",
    "version": 3
   },
   "file_extension": ".py",
   "mimetype": "text/x-python",
   "name": "python",
   "nbconvert_exporter": "python",
   "pygments_lexer": "ipython3",
   "version": "3.12.7"
  }
 },
 "nbformat": 4,
 "nbformat_minor": 5
}
